{
 "cells": [
  {
   "cell_type": "code",
   "execution_count": 5,
   "id": "b0b3cd48-f629-4381-b14f-75efd479b0fd",
   "metadata": {},
   "outputs": [],
   "source": [
    "import numpy as np\n",
    "import pandas as pd\n",
    "import matplotlib.pyplot as plt"
   ]
  },
  {
   "cell_type": "markdown",
   "id": "95d02512-3619-414a-bf8e-0c0fb3ad96a3",
   "metadata": {},
   "source": [
    "# Topics Covered "
   ]
  },
  {
   "cell_type": "markdown",
   "id": "f7499dd4-1e8d-4335-ad4c-656ef4ff9768",
   "metadata": {},
   "source": [
    "* Basics of randomness and simulation\n",
    "* simulation and probability\n",
    "* bootstrapping and resampling methods\n",
    "* advanced applications of simulation\n"
   ]
  },
  {
   "cell_type": "markdown",
   "id": "7d5cce68-65ab-4fb5-98e5-ce23a2a2707e",
   "metadata": {},
   "source": [
    "# Random variables\n",
    "* continuous random variables\n",
    "    * infinitely many possible values\n",
    "    * e.g. height, weight, etc.\n",
    "* discrete random variable\n",
    "    * finite set of possible values\n",
    "    * e.g. outcome of a six sided die\n",
    "    \n",
    "# probability distributions\n",
    "* continuous probability distributions\n",
    "    * PDF: mapping of the set of possible outcomes of a random variable vs the probability of observing that outcome\n",
    "        * continuous variables\n",
    "    * PMF: (probability mass function) does the same as a PDF, however, it is more of a barplot where each bar represents the number of observed outcomes\n",
    "        * discrete variables\n",
    "        * binomial and poisson distributions are widely used for discrete variables\n",
    "        \n",
    "# Python Random Module\n",
    "np.random.choice(a, size=None, replace=True, p=None)\n",
    "\n",
    "Parameters\n",
    "----------\n",
    "a : 1-D array-like or int\n",
    "    If an ndarray, a random sample is generated from its elements.\n",
    "    If an int, the random sample is generated as if a were np.arange(a)\n",
    "    <br>\n",
    "    <br>\n",
    "size : int or tuple of ints, optional\n",
    "    Output shape.  If the given shape is, e.g., ``(m, n, k)``, then\n",
    "    ``m * n * k`` samples are drawn.  Default is None, in which case a\n",
    "    single value is returned.\n",
    "    <br><br>\n",
    "replace : boolean, optional\n",
    "    Whether the sample is with or without replacement\n",
    "    <br><br>\n",
    "p : 1-D array-like, optional\n",
    "    The probabilities associated with each entry in a.\n",
    "    If not given the sample assumes a uniform distribution over all\n",
    "    entries in a.\n"
   ]
  },
  {
   "cell_type": "markdown",
   "id": "4336e23b-d4fa-4d79-9d05-a996bb246f34",
   "metadata": {},
   "source": [
    "# Poisson distributions\n",
    "* used for modeling the average rate at which events occur\n",
    "* purpose of this exercise: \n",
    "    * draw samples from poisson distribution\n",
    "    * see how the sample mean changes as you draw more samples"
   ]
  },
  {
   "cell_type": "markdown",
   "id": "5018b1af-1831-46ab-a88d-d817e44e9fff",
   "metadata": {},
   "source": [
    "poisson(lam=1.0, size=None)\n",
    "\n",
    "Draw samples from a Poisson distribution.\n",
    "<br><br>\n",
    "The Poisson distribution is the limit of the binomial distribution\n",
    "for large N.\n",
    "<br><br>\n",
    ".. note::\n",
    "    New code should use the ``poisson`` method of a ``default_rng()``\n",
    "    instance instead; please see the :ref:`random-quick-start`.\n",
    "<br><br>\n",
    "Parameters\n",
    "----------\n",
    "lam : float or array_like of floats\n",
    "    Expectation of interval, must be >= 0. A sequence of expectation\n",
    "    intervals must be broadcastable over the requested size.<br><br>\n",
    "size : int or tuple of ints, optional\n",
    "    Output shape.  If the given shape is, e.g., ``(m, n, k)``, then\n",
    "    ``m * n * k`` samples are drawn.  If size is ``None`` (default),\n",
    "    a single value is returned if ``lam`` is a scalar. Otherwise,\n",
    "    ``np.array(lam).size`` samples are drawn.<br><br>\n",
    "\n",
    "Returns\n",
    "-------<br><br>\n",
    "out : ndarray or scalar\n",
    "    Drawn samples from the parameterized Poisson distribution.<br><br>\n",
    "Notes\n",
    "-----\n",
    "The Poisson distribution\n",
    "<br><br>\n",
    "$\\ f(k; \\lambda)=\\frac{\\lambda^k e^{-\\lambda}}{k!}$\n",
    "<br><br>\n",
    "For events with an expected separation :math:`\\lambda` the Poisson\n",
    "distribution :math:`f(k; \\lambda)` describes the probability of\n",
    ":math:`k` events occurring within the observed\n",
    "interval :math:`\\lambda`.\n",
    "<br><br>\n",
    "Because the output is limited to the range of the C int64 type, a\n",
    "ValueError is raised when `lam` is within 10 sigma of the maximum\n",
    "representable value."
   ]
  },
  {
   "cell_type": "code",
   "execution_count": 7,
   "id": "447274e9-9a83-40a2-a994-4cfeb0d72a69",
   "metadata": {},
   "outputs": [
    {
     "name": "stdout",
     "output_type": "stream",
     "text": [
      "|Lambda - sample mean| with 3 samples is 0.33333333333333304 and with 1000 samples is 0.07699999999999996. \n"
     ]
    }
   ],
   "source": [
    "# Initialize seed and parameters\n",
    "np.random.seed(123) \n",
    "lam, size_1, size_2 = 5, 3, 1000  \n",
    "\n",
    "# Draw samples & calculate absolute difference between lambda and sample mean\n",
    "samples_1 = np.random.poisson(lam, size_1)\n",
    "samples_2 = np.random.poisson(lam, size_2)\n",
    "answer_1 = abs(lam-np.mean(samples_1))\n",
    "answer_2 = abs(lam-np.mean(samples_2)) \n",
    "\n",
    "print(\"|Lambda - sample mean| with {} samples is {} and with {} samples is {}. \".format(size_1, answer_1, size_2, answer_2))"
   ]
  },
  {
   "cell_type": "code",
   "execution_count": 8,
   "id": "792f5e31-e330-4dc8-880c-695eb7a665fe",
   "metadata": {
    "tags": []
   },
   "outputs": [],
   "source": [
    "deck_of_cards= [('Heart', 0),\n",
    " ('Heart', 1),\n",
    " ('Heart', 2),\n",
    " ('Heart', 3),\n",
    " ('Heart', 4),\n",
    " ('Heart', 5),\n",
    " ('Heart', 6),\n",
    " ('Heart', 7),\n",
    " ('Heart', 8),\n",
    " ('Heart', 9),\n",
    " ('Heart', 10),\n",
    " ('Heart', 11),\n",
    " ('Heart', 12),\n",
    " ('Club', 0),\n",
    " ('Club', 1),\n",
    " ('Club', 2),\n",
    " ('Club', 3),\n",
    " ('Club', 4),\n",
    " ('Club', 5),\n",
    " ('Club', 6),\n",
    " ('Club', 7),\n",
    " ('Club', 8),\n",
    " ('Club', 9),\n",
    " ('Club', 10),\n",
    " ('Club', 11),\n",
    " ('Club', 12),\n",
    " ('Spade', 0),\n",
    " ('Spade', 1),\n",
    " ('Spade', 2),\n",
    " ('Spade', 3),\n",
    " ('Spade', 4),\n",
    " ('Spade', 5),\n",
    " ('Spade', 6),\n",
    " ('Spade', 7),\n",
    " ('Spade', 8),\n",
    " ('Spade', 9),\n",
    " ('Spade', 10),\n",
    " ('Spade', 11),\n",
    " ('Spade', 12),\n",
    " ('Diamond', 0),\n",
    " ('Diamond', 1),\n",
    " ('Diamond', 2),\n",
    " ('Diamond', 3),\n",
    " ('Diamond', 4),\n",
    " ('Diamond', 5),\n",
    " ('Diamond', 6),\n",
    " ('Diamond', 7),\n",
    " ('Diamond', 8),\n",
    " ('Diamond', 9),\n",
    " ('Diamond', 10),\n",
    " ('Diamond', 11),\n",
    " ('Diamond', 12)]"
   ]
  },
  {
   "cell_type": "markdown",
   "id": "dcb95bb3-d808-4904-99aa-02d685c74b6e",
   "metadata": {},
   "source": [
    "# Shuffling a deck of cards\n",
    "\n",
    "Often times we are interested in randomizing the order of a set of items. Consider a game of cards where you first shuffle the deck of cards or a game of scrabble where the letters are first mixed in a bag. As the final exercise of this section, you will learn another useful function - np.random.shuffle(). This function allows you to randomly shuffle a sequence in place. At the end of this exercise, you will know how to shuffle a deck of cards or any sequence of items.\n",
    "\n",
    "Examine deck_of_cards in the shell. "
   ]
  },
  {
   "cell_type": "code",
   "execution_count": 11,
   "id": "5ef4fe56-8b9f-46cd-b583-e3da8ffd5ff3",
   "metadata": {},
   "outputs": [
    {
     "name": "stdout",
     "output_type": "stream",
     "text": [
      "[('Spade', 2), ('Diamond', 11), ('Diamond', 6)]\n"
     ]
    }
   ],
   "source": [
    "# Shuffle the deck\n",
    "np.random.shuffle(deck_of_cards)\n",
    "\n",
    "# Print out the top three cards\n",
    "card_choices_after_shuffle = deck_of_cards[0:3]\n",
    "print(card_choices_after_shuffle)"
   ]
  },
  {
   "cell_type": "markdown",
   "id": "18bd6990-5d58-4e2f-a5f1-354e81834831",
   "metadata": {},
   "source": [
    "# Simulation Basics\n",
    "* Framework for modeling real world events\n",
    "    * characterized by repeated random sampling\n",
    "    * gives us an approximate solution\n",
    "    * can help solve complex problems\n",
    "\n",
    "* simulation steps\n",
    "    1. define the possible outcomes for random variables\n",
    "    2. assign probabilities, the probability distribution\n",
    "    3. define the relationship between multiple random variables\n",
    "    4. draw samples from the probability distributions\n",
    "    5. analyze the sample outcomes\n",
    "\n",
    "* "
   ]
  },
  {
   "cell_type": "markdown",
   "id": "c5920944-7995-4f0c-8e90-412fcce76305",
   "metadata": {},
   "source": [
    "# throwing a fair die "
   ]
  },
  {
   "cell_type": "code",
   "execution_count": 18,
   "id": "7fa2f476-30d2-42a9-ae58-0a1d26bcdc36",
   "metadata": {},
   "outputs": [
    {
     "name": "stdout",
     "output_type": "stream",
     "text": [
      "Outcome of the throw: 2\n"
     ]
    }
   ],
   "source": [
    "# Define die outcomes and probabilities\n",
    "die, probabilities, throws = [1,2,3,4,5,6], [1/6, 1/6,1/6, 1/6,1/6, 1/6], 1\n",
    "\n",
    "# Use np.random.choice to throw the die once and record the outcome\n",
    "outcome = np.random.choice(die, size=1, p=probabilities)\n",
    "print(\"Outcome of the throw: {}\".format(outcome[0]))"
   ]
  },
  {
   "cell_type": "markdown",
   "id": "81e807dd-5711-4fb6-89ca-3afde1ed1f89",
   "metadata": {},
   "source": [
    "# throwing 2 fair die and checking if we the same number on each die "
   ]
  },
  {
   "cell_type": "code",
   "execution_count": 19,
   "id": "01b71e00-2a8b-4fca-9a3a-3a6c4917c0b0",
   "metadata": {},
   "outputs": [
    {
     "name": "stdout",
     "output_type": "stream",
     "text": [
      "The dice show 5 and 4. You lose!\n"
     ]
    }
   ],
   "source": [
    "# Initialize number of dice, simulate & record outcome\n",
    "die, probabilities, num_dice = [1,2,3,4,5,6], [1/6, 1/6, 1/6, 1/6, 1/6, 1/6], 2\n",
    "outcomes = np.random.choice(die, size=2, p=probabilities) \n",
    "\n",
    "# Win if the two dice show the same number\n",
    "if outcomes[0] == outcomes[1]: \n",
    "    answer = 'win' \n",
    "else:\n",
    "    answer = 'lose'\n",
    "\n",
    "print(\"The dice show {} and {}. You {}!\".format(outcomes[0], outcomes[1], answer))"
   ]
  },
  {
   "cell_type": "markdown",
   "id": "3a972b7f-7189-4e16-8181-84918f54653f",
   "metadata": {},
   "source": [
    "# Simulating the dice game\n",
    "\n",
    "We now know how to implement the first three steps of a simulation. Now let's consider the next step - repeated random sampling.\n",
    "\n",
    "Simulating an outcome once doesn't tell us much about how often we can expect to see that outcome. In the case of the dice game from the previous exercise, it's great that we won once. But suppose we want to see how many times we can expect to win if we played this game multiple times, we need to repeat the random sampling process many times. Repeating the process of random sampling is helpful to understand and visualize inherent uncertainty and deciding next steps. "
   ]
  },
  {
   "cell_type": "code",
   "execution_count": 25,
   "id": "9a988717-0ac4-4a66-8965-fcde9dfc4854",
   "metadata": {},
   "outputs": [
    {
     "name": "stdout",
     "output_type": "stream",
     "text": [
      "In 100 games, you win 19 times\n"
     ]
    }
   ],
   "source": [
    "# Initialize model parameters & simulate dice throw\n",
    "die, probabilities, num_dice = [1,2,3,4,5,6], [1/6, 1/6, 1/6, 1/6, 1/6, 1/6], 2\n",
    "sims, wins = 100, 0\n",
    "\n",
    "for i in range(sims):\n",
    "    outcomes = np.random.choice(die, size=2, p=probabilities) \n",
    "    # Increment `wins` by 1 if the dice show same number\n",
    "    if  outcomes[0] == outcomes[1]: \n",
    "        wins = wins + 1 \n",
    "\n",
    "print(\"In {} games, you win {} times\".format(sims, wins))"
   ]
  },
  {
   "cell_type": "markdown",
   "id": "d4e0c9d7-2414-4ea1-af9d-a4cd0ab9cd6b",
   "metadata": {},
   "source": [
    "# <hr> "
   ]
  },
  {
   "cell_type": "markdown",
   "id": "fc868d08-2724-4306-a321-cc40e2b0b71a",
   "metadata": {},
   "source": [
    "# Probability Basics\n"
   ]
  },
  {
   "cell_type": "code",
   "execution_count": null,
   "id": "fc8553cf-e0b4-4eec-add5-cac0d367a8aa",
   "metadata": {},
   "outputs": [],
   "source": []
  }
 ],
 "metadata": {
  "kernelspec": {
   "display_name": "Python 3",
   "language": "python",
   "name": "python3"
  },
  "language_info": {
   "codemirror_mode": {
    "name": "ipython",
    "version": 3
   },
   "file_extension": ".py",
   "mimetype": "text/x-python",
   "name": "python",
   "nbconvert_exporter": "python",
   "pygments_lexer": "ipython3",
   "version": "3.8.8"
  }
 },
 "nbformat": 4,
 "nbformat_minor": 5
}
